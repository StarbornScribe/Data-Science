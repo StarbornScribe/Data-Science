{
 "cells": [
  {
   "cell_type": "code",
   "execution_count": 16,
   "id": "ee81a021",
   "metadata": {},
   "outputs": [
    {
     "name": "stdout",
     "output_type": "stream",
     "text": [
      "2002-10-02 00:00:00\n",
      "2013-10-11 00:00:00\n",
      "1977-08-18 00:00:00\n"
     ]
    }
   ],
   "source": [
    "# Задание 1\n",
    "# ---------\n",
    "\n",
    "from datetime import datetime\n",
    "\n",
    "formats = [\" %A, %B %d, %Y\", \" %A, %d %B %Y\", \" %A, %d.%m.%y\"]\n",
    "\n",
    "with open('second_dz/newspapers.txt', encoding = 'utf-8') as file:\n",
    "    for line in file:\n",
    "        line = line.strip().split('-')\n",
    "        \n",
    "        for i in formats:\n",
    "            try:\n",
    "                date = datetime.strptime(line[1], i)\n",
    "                print(date)\n",
    "            except:\n",
    "                pass"
   ]
  },
  {
   "cell_type": "code",
   "execution_count": 13,
   "id": "d14b49b7",
   "metadata": {},
   "outputs": [
    {
     "name": "stdout",
     "output_type": "stream",
     "text": [
      "Начальная дата: 2023-12-12\n",
      "Конечная дата: 2023-12-31\n",
      "['2023-12-12', '2023-12-13', '2023-12-14', '2023-12-15', '2023-12-16', '2023-12-17', '2023-12-18', '2023-12-19', '2023-12-20', '2023-12-21', '2023-12-22', '2023-12-23', '2023-12-24', '2023-12-25', '2023-12-26', '2023-12-27', '2023-12-28', '2023-12-29', '2023-12-30', '2023-12-31']\n"
     ]
    }
   ],
   "source": [
    "# Задание 2\n",
    "# ---------\n",
    "\n",
    "import datetime\n",
    "\n",
    "start_date = input(\"Начальная дата: \")\n",
    "end_date = input(\"Конечная дата: \")\n",
    "\n",
    "\n",
    "def date_range(start_date, end_date):\n",
    "    try:\n",
    "        start_date = datetime.datetime.strptime(start_date, '%Y-%m-%d')\n",
    "        end_date = datetime.datetime.strptime(end_date, '%Y-%m-%d')\n",
    "\n",
    "        days = []\n",
    "        current_date = start_date\n",
    "\n",
    "        while current_date <= end_date:\n",
    "            days.append(current_date.strftime('%Y-%m-%d'))\n",
    "            current_date += datetime.timedelta(days=1)\n",
    "        else:\n",
    "            print(days)\n",
    "    except:\n",
    "        print([])\n",
    "\n",
    "\n",
    "date_range(start_date, end_date)"
   ]
  }
 ],
 "metadata": {
  "kernelspec": {
   "display_name": "Python 3 (ipykernel)",
   "language": "python",
   "name": "python3"
  },
  "language_info": {
   "codemirror_mode": {
    "name": "ipython",
    "version": 3
   },
   "file_extension": ".py",
   "mimetype": "text/x-python",
   "name": "python",
   "nbconvert_exporter": "python",
   "pygments_lexer": "ipython3",
   "version": "3.11.5"
  }
 },
 "nbformat": 4,
 "nbformat_minor": 5
}
