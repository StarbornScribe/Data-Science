{
 "cells": [
  {
   "cell_type": "code",
   "execution_count": 1,
   "id": "96b266d8",
   "metadata": {},
   "outputs": [],
   "source": [
    "import numpy as np, matplotlib as mpl, matplotlib.pyplot as plt, pandas as pd\n",
    "import seaborn as sns, math, os, warnings"
   ]
  },
  {
   "cell_type": "code",
   "execution_count": 2,
   "id": "2ef3b4a0",
   "metadata": {},
   "outputs": [],
   "source": [
    "df_data = pd.read_csv('uplift_synthetic_data_100trials.csv')\n",
    "df_model = df_data.copy()"
   ]
  },
  {
   "cell_type": "code",
   "execution_count": 3,
   "id": "bc68de3d",
   "metadata": {},
   "outputs": [
    {
     "name": "stdout",
     "output_type": "stream",
     "text": [
      "<class 'pandas.core.frame.DataFrame'>\n",
      "RangeIndex: 1000000 entries, 0 to 999999\n",
      "Data columns (total 43 columns):\n",
      " #   Column                      Non-Null Count    Dtype  \n",
      "---  ------                      --------------    -----  \n",
      " 0   Unnamed: 0                  1000000 non-null  int64  \n",
      " 1   trial_id                    1000000 non-null  int64  \n",
      " 2   treatment_group_key         1000000 non-null  object \n",
      " 3   conversion                  1000000 non-null  int64  \n",
      " 4   control_conversion_prob     1000000 non-null  float64\n",
      " 5   treatment1_conversion_prob  1000000 non-null  float64\n",
      " 6   treatment1_true_effect      1000000 non-null  float64\n",
      " 7   x1_informative              1000000 non-null  float64\n",
      " 8   x2_informative              1000000 non-null  float64\n",
      " 9   x3_informative              1000000 non-null  float64\n",
      " 10  x4_informative              1000000 non-null  float64\n",
      " 11  x5_informative              1000000 non-null  float64\n",
      " 12  x6_informative              1000000 non-null  float64\n",
      " 13  x7_informative              1000000 non-null  float64\n",
      " 14  x8_informative              1000000 non-null  float64\n",
      " 15  x9_informative              1000000 non-null  float64\n",
      " 16  x10_informative             1000000 non-null  float64\n",
      " 17  x11_irrelevant              1000000 non-null  float64\n",
      " 18  x12_irrelevant              1000000 non-null  float64\n",
      " 19  x13_irrelevant              1000000 non-null  float64\n",
      " 20  x14_irrelevant              1000000 non-null  float64\n",
      " 21  x15_irrelevant              1000000 non-null  float64\n",
      " 22  x16_irrelevant              1000000 non-null  float64\n",
      " 23  x17_irrelevant              1000000 non-null  float64\n",
      " 24  x18_irrelevant              1000000 non-null  float64\n",
      " 25  x19_irrelevant              1000000 non-null  float64\n",
      " 26  x20_irrelevant              1000000 non-null  float64\n",
      " 27  x21_irrelevant              1000000 non-null  float64\n",
      " 28  x22_irrelevant              1000000 non-null  float64\n",
      " 29  x23_irrelevant              1000000 non-null  float64\n",
      " 30  x24_irrelevant              1000000 non-null  float64\n",
      " 31  x25_irrelevant              1000000 non-null  float64\n",
      " 32  x26_irrelevant              1000000 non-null  float64\n",
      " 33  x27_irrelevant              1000000 non-null  float64\n",
      " 34  x28_irrelevant              1000000 non-null  float64\n",
      " 35  x29_irrelevant              1000000 non-null  float64\n",
      " 36  x30_irrelevant              1000000 non-null  float64\n",
      " 37  x31_uplift_increase         1000000 non-null  float64\n",
      " 38  x32_uplift_increase         1000000 non-null  float64\n",
      " 39  x33_uplift_increase         1000000 non-null  float64\n",
      " 40  x34_uplift_increase         1000000 non-null  float64\n",
      " 41  x35_uplift_increase         1000000 non-null  float64\n",
      " 42  x36_uplift_increase         1000000 non-null  float64\n",
      "dtypes: float64(39), int64(3), object(1)\n",
      "memory usage: 328.1+ MB\n"
     ]
    },
    {
     "data": {
      "text/html": [
       "<div>\n",
       "<style scoped>\n",
       "    .dataframe tbody tr th:only-of-type {\n",
       "        vertical-align: middle;\n",
       "    }\n",
       "\n",
       "    .dataframe tbody tr th {\n",
       "        vertical-align: top;\n",
       "    }\n",
       "\n",
       "    .dataframe thead th {\n",
       "        text-align: right;\n",
       "    }\n",
       "</style>\n",
       "<table border=\"1\" class=\"dataframe\">\n",
       "  <thead>\n",
       "    <tr style=\"text-align: right;\">\n",
       "      <th></th>\n",
       "      <th>treatment_group_key</th>\n",
       "    </tr>\n",
       "  </thead>\n",
       "  <tbody>\n",
       "    <tr>\n",
       "      <th>count</th>\n",
       "      <td>1000000</td>\n",
       "    </tr>\n",
       "    <tr>\n",
       "      <th>unique</th>\n",
       "      <td>2</td>\n",
       "    </tr>\n",
       "    <tr>\n",
       "      <th>top</th>\n",
       "      <td>control</td>\n",
       "    </tr>\n",
       "    <tr>\n",
       "      <th>freq</th>\n",
       "      <td>500000</td>\n",
       "    </tr>\n",
       "  </tbody>\n",
       "</table>\n",
       "</div>"
      ],
      "text/plain": [
       "       treatment_group_key\n",
       "count              1000000\n",
       "unique                   2\n",
       "top                control\n",
       "freq                500000"
      ]
     },
     "execution_count": 3,
     "metadata": {},
     "output_type": "execute_result"
    }
   ],
   "source": [
    "# Информация о датасете\n",
    "\n",
    "df_model.head()\n",
    "df_model.info()\n",
    "\n",
    "df_model.describe(include=object)"
   ]
  },
  {
   "cell_type": "code",
   "execution_count": 4,
   "id": "007e5219",
   "metadata": {},
   "outputs": [
    {
     "name": "stdout",
     "output_type": "stream",
     "text": [
      "\n",
      " treatment_group_key\n",
      "control 500000\n",
      "treatment1 500000\n"
     ]
    }
   ],
   "source": [
    "object_cols = [col for col in df_model.columns if df_model[col].dtype == \"object\"]\n",
    "for obj in object_cols:\n",
    "    print('\\n', obj)\n",
    "    for unique in df_model[obj].unique():\n",
    "        print(\"{} {}\".format(unique,sum(df_model[obj] == unique)))"
   ]
  },
  {
   "cell_type": "markdown",
   "id": "a961421b",
   "metadata": {},
   "source": [
    "## Предобработка данных"
   ]
  },
  {
   "cell_type": "code",
   "execution_count": 5,
   "id": "ef9d816f",
   "metadata": {},
   "outputs": [],
   "source": [
    "df_model = df_model.rename(columns={'conversion': 'target'})\n",
    "df_model.treatment_group_key = df_model.treatment_group_key.replace({'control': 0, 'treatment1': 1})"
   ]
  },
  {
   "cell_type": "code",
   "execution_count": 6,
   "id": "96a55dfe",
   "metadata": {},
   "outputs": [],
   "source": [
    "df_model = pd.get_dummies(df_model)"
   ]
  },
  {
   "cell_type": "code",
   "execution_count": 7,
   "id": "c6da711c",
   "metadata": {},
   "outputs": [],
   "source": [
    "df_model_control = df_model.copy()\n",
    "df_model_treatment = df_model.copy().loc[df_model.treatment_group_key >=0].reset_index(drop=True)"
   ]
  },
  {
   "cell_type": "code",
   "execution_count": 8,
   "id": "84617631",
   "metadata": {},
   "outputs": [],
   "source": [
    "def declare_tc(df:pd.DataFrame):\n",
    "    #CN:\n",
    "    df['target_class'] = 0 \n",
    "    #CR:\n",
    "    df.loc[(df.treatment_group_key == 0) & (df.target != 0),'target_class'] = 1 \n",
    "    #TN:\n",
    "    df.loc[(df.treatment_group_key != 0) & (df.target == 0),'target_class'] = 2 \n",
    "    #TR:\n",
    "    df.loc[(df.treatment_group_key != 0) & (df.target != 0),'target_class'] = 3 \n",
    "    return df"
   ]
  },
  {
   "cell_type": "code",
   "execution_count": 9,
   "id": "f1ffa7ff",
   "metadata": {},
   "outputs": [],
   "source": [
    "df_model_control = declare_tc(df_model_control)\n",
    "df_model_treatment = declare_tc(df_model_treatment)"
   ]
  },
  {
   "cell_type": "markdown",
   "id": "5df56b8d",
   "metadata": {},
   "source": [
    "## Uplift Modeling"
   ]
  },
  {
   "cell_type": "code",
   "execution_count": 10,
   "id": "a6a982e7",
   "metadata": {},
   "outputs": [],
   "source": [
    "# Functions for Uplift\n",
    "from sklearn.model_selection import train_test_split\n",
    "import xgboost as xgb\n",
    "def uplift_split(df_model:pd.DataFrame):\n",
    "    \"\"\"Train-Test Split\n",
    "    \"\"\"\n",
    "    X = df_model.drop(['target','target_class'],axis=1)\n",
    "    y = df_model.target_class\n",
    "    X_train, X_test, \\\n",
    "    y_train, y_test  = train_test_split(X,\n",
    "                                       y,\n",
    "                                       test_size=0.3,\n",
    "                                       random_state=42,\n",
    "                                       stratify=df_model['treatment_group_key'])\n",
    "    return X_train,X_test, y_train, y_test\n",
    "\n",
    "\n",
    "def uplift_model(X_train:pd.DataFrame,\n",
    "                 X_test:pd.DataFrame,\n",
    "                 y_train:pd.DataFrame,\n",
    "                 y_test:pd.DataFrame):\n",
    "    \"\"\"Using XGB to get the uplift score\n",
    "    \"\"\"\n",
    "    # Create new dataframe\n",
    "    result = pd.DataFrame(X_test).copy()    \n",
    "    # Fit the model\n",
    "    uplift_model \\\n",
    "    = xgb.XGBClassifier().fit(X_train.drop('treatment_group_key', axis=1), y_train)\n",
    "    \n",
    "    \n",
    "    # Predict using test-data\n",
    "    uplift_proba \\\n",
    "    = uplift_model.predict_proba(X_test.drop('treatment_group_key', axis=1))\n",
    "    result['proba_CN'] = uplift_proba[:,0] \n",
    "    result['proba_CR'] = uplift_proba[:,1] \n",
    "    result['proba_TN'] = uplift_proba[:,2] \n",
    "    result['proba_TR'] = uplift_proba[:,3]\n",
    "    result['uplift_score'] = result.eval('\\\n",
    "    proba_CN/(proba_CN+proba_CR) \\\n",
    "    + proba_TR/(proba_TN+proba_TR) \\\n",
    "    - proba_TN/(proba_TN+proba_TR) \\\n",
    "    - proba_CR/(proba_CN+proba_CR)')  \n",
    "    # Put the result \n",
    "    result['target_class'] = y_test\n",
    "    return result\n",
    "\n",
    "\n",
    "def uplift(df_model:pd.DataFrame):\n",
    "    \"\"\"Combine the split and Modeling function|\n",
    "    \"\"\"\n",
    "    X_train, X_test, y_train, y_test = uplift_split(df_model)\n",
    "    result = uplift_model(X_train, X_test, y_train, y_test)\n",
    "    return result"
   ]
  },
  {
   "cell_type": "code",
   "execution_count": 11,
   "id": "cf06bff6",
   "metadata": {},
   "outputs": [],
   "source": [
    "# Запускаем uplift функцию\n",
    "\n",
    "control_uplift = uplift(df_model_control)\n",
    "treatment_uplift = uplift(df_model_treatment)"
   ]
  }
 ],
 "metadata": {
  "kernelspec": {
   "display_name": "Python 3 (ipykernel)",
   "language": "python",
   "name": "python3"
  },
  "language_info": {
   "codemirror_mode": {
    "name": "ipython",
    "version": 3
   },
   "file_extension": ".py",
   "mimetype": "text/x-python",
   "name": "python",
   "nbconvert_exporter": "python",
   "pygments_lexer": "ipython3",
   "version": "3.11.5"
  }
 },
 "nbformat": 4,
 "nbformat_minor": 5
}
